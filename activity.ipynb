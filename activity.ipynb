{
 "cells": [
  {
   "cell_type": "code",
   "execution_count": 1,
   "id": "d64aa5fb-65ad-49a9-918f-8e1bb51506c2",
   "metadata": {},
   "outputs": [],
   "source": [
    "# Import Required Modules\n",
    "import pandas as pd\n",
    "import numpy as np\n",
    "from statsmodels.formula.api import logit"
   ]
  },
  {
   "cell_type": "code",
   "execution_count": 3,
   "id": "a0763cae-771e-4fab-8cf7-153470d28f78",
   "metadata": {},
   "outputs": [
    {
     "name": "stdout",
     "output_type": "stream",
     "text": [
      "<class 'pandas.core.frame.DataFrame'>\n",
      "RangeIndex: 10000 entries, 0 to 9999\n",
      "Data columns (total 18 columns):\n",
      " #   Column               Non-Null Count  Dtype  \n",
      "---  ------               --------------  -----  \n",
      " 0   id                   10000 non-null  int64  \n",
      " 1   age                  10000 non-null  int64  \n",
      " 2   gender               10000 non-null  int64  \n",
      " 3   driving_experience   10000 non-null  object \n",
      " 4   education            10000 non-null  object \n",
      " 5   income               10000 non-null  object \n",
      " 6   credit_score         9018 non-null   float64\n",
      " 7   vehicle_ownership    10000 non-null  float64\n",
      " 8   vehicle_year         10000 non-null  object \n",
      " 9   married              10000 non-null  float64\n",
      " 10  children             10000 non-null  float64\n",
      " 11  postal_code          10000 non-null  int64  \n",
      " 12  annual_mileage       9043 non-null   float64\n",
      " 13  vehicle_type         10000 non-null  object \n",
      " 14  speeding_violations  10000 non-null  int64  \n",
      " 15  duis                 10000 non-null  int64  \n",
      " 16  past_accidents       10000 non-null  int64  \n",
      " 17  outcome              10000 non-null  float64\n",
      "dtypes: float64(6), int64(7), object(5)\n",
      "memory usage: 1.4+ MB\n"
     ]
    },
    {
     "name": "stderr",
     "output_type": "stream",
     "text": [
      "/tmp/ipykernel_181/1345488323.py:9: FutureWarning: A value is trying to be set on a copy of a DataFrame or Series through chained assignment using an inplace method.\n",
      "The behavior will change in pandas 3.0. This inplace method will never work because the intermediate object on which we are setting values always behaves as a copy.\n",
      "\n",
      "For example, when doing 'df[col].method(value, inplace=True)', try using 'df.method({col: value}, inplace=True)' or df[col] = df[col].method(value) instead, to perform the operation inplace on the original object.\n",
      "\n",
      "\n",
      "  cars[\"credit_score\"].fillna(cars[\"credit_score\"].mean(), inplace=True)\n",
      "/tmp/ipykernel_181/1345488323.py:10: FutureWarning: A value is trying to be set on a copy of a DataFrame or Series through chained assignment using an inplace method.\n",
      "The behavior will change in pandas 3.0. This inplace method will never work because the intermediate object on which we are setting values always behaves as a copy.\n",
      "\n",
      "For example, when doing 'df[col].method(value, inplace=True)', try using 'df.method({col: value}, inplace=True)' or df[col] = df[col].method(value) instead, to perform the operation inplace on the original object.\n",
      "\n",
      "\n",
      "  cars[\"annual_mileage\"].fillna(cars[\"annual_mileage\"].mean(), inplace=True)\n"
     ]
    }
   ],
   "source": [
    "# Load and Clean Dataset\n",
    "# Load dataset\n",
    "cars = pd.read_csv(\"data/car_insurance.csv\")\n",
    "\n",
    "# Display basic info\n",
    "cars.info()\n",
    "\n",
    "# Fill missing values with the mean\n",
    "cars[\"credit_score\"].fillna(cars[\"credit_score\"].mean(), inplace=True)\n",
    "cars[\"annual_mileage\"].fillna(cars[\"annual_mileage\"].mean(), inplace=True)"
   ]
  },
  {
   "cell_type": "code",
   "execution_count": 4,
   "id": "a9e2310a-f2e3-465d-913f-aacce68556ff",
   "metadata": {},
   "outputs": [],
   "source": [
    "# Fit Logit Models for Each Feature\n",
    "# Drop 'id' and 'outcome' to get feature columns\n",
    "features = cars.drop(columns=[\"id\", \"outcome\"]).columns\n",
    "\n",
    "# Initialize list to store models\n",
    "models = []\n",
    "\n",
    "# Fit a logistic regression model for each feature\n",
    "for col in features:\n",
    "    model = logit(f\"outcome ~ {col}\", data=cars).fit(disp=0)\n",
    "    models.append(model)\n"
   ]
  },
  {
   "cell_type": "code",
   "execution_count": 5,
   "id": "afdcf9c4-a4ff-44be-8ac6-decc10f99e13",
   "metadata": {},
   "outputs": [],
   "source": [
    "# Calculate Accuracy for Each Model\n",
    "# List to store accuracies\n",
    "accuracies = []\n",
    "\n",
    "# Calculate confusion matrix and accuracy\n",
    "for model in models:\n",
    "    conf_matrix = model.pred_table()\n",
    "    tn, fp = conf_matrix[0]\n",
    "    fn, tp = conf_matrix[1]\n",
    "    accuracy = (tn + tp) / (tn + fp + fn + tp)\n",
    "    accuracies.append(accuracy)\n"
   ]
  },
  {
   "cell_type": "code",
   "execution_count": 6,
   "id": "dc6a78d3-dc6d-4001-a72c-d282fdfcee57",
   "metadata": {},
   "outputs": [
    {
     "data": {
      "text/html": [
       "<div>\n",
       "<style scoped>\n",
       "    .dataframe tbody tr th:only-of-type {\n",
       "        vertical-align: middle;\n",
       "    }\n",
       "\n",
       "    .dataframe tbody tr th {\n",
       "        vertical-align: top;\n",
       "    }\n",
       "\n",
       "    .dataframe thead th {\n",
       "        text-align: right;\n",
       "    }\n",
       "</style>\n",
       "<table border=\"1\" class=\"dataframe\">\n",
       "  <thead>\n",
       "    <tr style=\"text-align: right;\">\n",
       "      <th></th>\n",
       "      <th>best_feature</th>\n",
       "      <th>best_accuracy</th>\n",
       "    </tr>\n",
       "  </thead>\n",
       "  <tbody>\n",
       "    <tr>\n",
       "      <th>0</th>\n",
       "      <td>driving_experience</td>\n",
       "      <td>0.7771</td>\n",
       "    </tr>\n",
       "  </tbody>\n",
       "</table>\n",
       "</div>"
      ],
      "text/plain": [
       "         best_feature  best_accuracy\n",
       "0  driving_experience         0.7771"
      ]
     },
     "execution_count": 6,
     "metadata": {},
     "output_type": "execute_result"
    }
   ],
   "source": [
    "# Identify Best Feature Based on Accuracy\n",
    "best_feature = features[accuracies.index(max(accuracies))]\n",
    "best_accuracy = max(accuracies)\n",
    "\n",
    "# Store results in a DataFrame\n",
    "best_feature_df = pd.DataFrame({\n",
    "    \"best_feature\": [best_feature],\n",
    "    \"best_accuracy\": [best_accuracy]\n",
    "})\n",
    "\n",
    "best_feature_df\n"
   ]
  }
 ],
 "metadata": {
  "kernelspec": {
   "display_name": "Python 3 (ipykernel)",
   "language": "python",
   "name": "python3"
  },
  "language_info": {
   "codemirror_mode": {
    "name": "ipython",
    "version": 3
   },
   "file_extension": ".py",
   "mimetype": "text/x-python",
   "name": "python",
   "nbconvert_exporter": "python",
   "pygments_lexer": "ipython3",
   "version": "3.10.12"
  }
 },
 "nbformat": 4,
 "nbformat_minor": 5
}
